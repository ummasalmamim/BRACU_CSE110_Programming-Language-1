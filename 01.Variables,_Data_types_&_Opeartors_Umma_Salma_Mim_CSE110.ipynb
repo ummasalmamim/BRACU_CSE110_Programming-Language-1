{
  "nbformat": 4,
  "nbformat_minor": 0,
  "metadata": {
    "colab": {
      "provenance": []
    },
    "kernelspec": {
      "name": "python3",
      "display_name": "Python 3"
    },
    "language_info": {
      "name": "python"
    }
  },
  "cells": [
    {
      "cell_type": "markdown",
      "source": [
        "\n",
        "#Student Name: UMMA SALMA MIM\n",
        "#Student ID: 2*****\n",
        "#Course Code: CSE110\n",
        "#Theory Section No: **\n",
        "#Assignment No-01\n",
        "#Topic: Variables, Data types & Opeartors\n",
        "\n",
        "\n"
      ],
      "metadata": {
        "id": "6F4UW_wc7Add"
      }
    },
    {
      "cell_type": "markdown",
      "source": [
        "#Task-1\n",
        "uses of print function"
      ],
      "metadata": {
        "id": "M0YYQmYl3d9V"
      }
    },
    {
      "cell_type": "code",
      "source": [
        "#print function\n",
        "name= \"John\"\n",
        "print(\"Your name is\",name)\n",
        "print(\"Your name is {}\".format(name))\n",
        "print(f\"Your name is {name}\")"
      ],
      "metadata": {
        "colab": {
          "base_uri": "https://localhost:8080/"
        },
        "id": "6evSV11N3tS-",
        "outputId": "1512d279-e247-4e87-807c-796d826a79ae"
      },
      "execution_count": 5,
      "outputs": [
        {
          "output_type": "stream",
          "name": "stdout",
          "text": [
            "Your name is John\n",
            "Your name is John\n",
            "Your name is John\n"
          ]
        }
      ]
    },
    {
      "cell_type": "markdown",
      "source": [
        "#Task-2\n",
        "print Hello World"
      ],
      "metadata": {
        "id": "vRvlS69i33_n"
      }
    },
    {
      "cell_type": "code",
      "source": [
        "print(\"hello world\")"
      ],
      "metadata": {
        "colab": {
          "base_uri": "https://localhost:8080/"
        },
        "id": "vQXysqUy3-tD",
        "outputId": "bbaf36c3-f647-4889-e2be-21eb5e548c05"
      },
      "execution_count": 6,
      "outputs": [
        {
          "output_type": "stream",
          "name": "stdout",
          "text": [
            "hello world\n"
          ]
        }
      ]
    },
    {
      "cell_type": "markdown",
      "source": [
        "#Task-3\n",
        "*Calculate 54+56\\\n",
        "output: 110*"
      ],
      "metadata": {
        "id": "1NlEi6Cp4HT4"
      }
    },
    {
      "cell_type": "code",
      "source": [
        "print( 54 + 56)"
      ],
      "metadata": {
        "colab": {
          "base_uri": "https://localhost:8080/"
        },
        "id": "EH3VXFjO4L4V",
        "outputId": "5b3acea6-e920-4d39-eb53-8ff3890d6669"
      },
      "execution_count": 7,
      "outputs": [
        {
          "output_type": "stream",
          "name": "stdout",
          "text": [
            "110\n"
          ]
        }
      ]
    },
    {
      "cell_type": "markdown",
      "source": [
        "#Task-4\n",
        "*season=Fall and year=2022\\\n",
        "So, print the values of the variables*"
      ],
      "metadata": {
        "id": "N19uTJKS4SWD"
      }
    },
    {
      "cell_type": "code",
      "source": [
        "season= \"Fall\"\n",
        "year= 2022\n",
        "print(season)\n",
        "print(year)"
      ],
      "metadata": {
        "colab": {
          "base_uri": "https://localhost:8080/"
        },
        "id": "Du5SBF4X4ZGX",
        "outputId": "d0bb3762-eb94-4ae5-dff7-d7cf2129ae2c"
      },
      "execution_count": 8,
      "outputs": [
        {
          "output_type": "stream",
          "name": "stdout",
          "text": [
            "Fall\n",
            "2022\n"
          ]
        }
      ]
    },
    {
      "cell_type": "markdown",
      "source": [
        "#Task 4\n",
        "Take a name as input from user and print"
      ],
      "metadata": {
        "id": "AG2fh-uIIwIt"
      }
    },
    {
      "cell_type": "code",
      "source": [
        "user_name = (input(\"Sir, please enter your name: \"))\n",
        "print(\"Your name is {}\".format(user_name))"
      ],
      "metadata": {
        "colab": {
          "base_uri": "https://localhost:8080/"
        },
        "id": "3Qoe66Hh4wu0",
        "outputId": "a54fb253-5d13-4283-93b7-0759a9433b0d"
      },
      "execution_count": 9,
      "outputs": [
        {
          "output_type": "stream",
          "name": "stdout",
          "text": [
            "Sir, please enter your name: Umma salma mim\n",
            "Your name is Umma salma mim\n"
          ]
        }
      ]
    },
    {
      "cell_type": "markdown",
      "source": [
        "#Task 5\n",
        "*Take two number as input from user and multiply them*"
      ],
      "metadata": {
        "id": "5R73VJ8fI4lP"
      }
    },
    {
      "cell_type": "code",
      "source": [
        "M= int(input(\"Sir, please enter number1: \"))\n",
        "N= int(input(\"Sir,please enter number2: \"))\n",
        "result= M**N\n",
        "print(\"{}^{}: {}\".format(M,N,result))"
      ],
      "metadata": {
        "id": "v1V-9Hhh1TEk",
        "colab": {
          "base_uri": "https://localhost:8080/"
        },
        "outputId": "5570c354-9fd0-425e-eeb7-99c258d71993"
      },
      "execution_count": 10,
      "outputs": [
        {
          "output_type": "stream",
          "name": "stdout",
          "text": [
            "Sir, please enter number1: 2\n",
            "Sir,please enter number2: 2\n",
            "2^2: 4\n"
          ]
        }
      ]
    },
    {
      "cell_type": "code",
      "source": [],
      "metadata": {
        "id": "LAKMGgd24grI"
      },
      "execution_count": 10,
      "outputs": []
    },
    {
      "cell_type": "markdown",
      "source": [
        "#Task 6"
      ],
      "metadata": {
        "id": "Ypj9in_3JBZs"
      }
    },
    {
      "cell_type": "code",
      "source": [
        "weight= int(input(\"Sir,please enter the total weight of the shipment: \"))\n",
        "maximum_load=(weight//4)*4                                          #weight//4 1 ta koner jonno tahole 4 ta koner jonno (weight//4)*4\n",
        "print(maximum_load)\n"
      ],
      "metadata": {
        "id": "S7U5lJ-C9ZEM",
        "colab": {
          "base_uri": "https://localhost:8080/"
        },
        "outputId": "0681e970-b2d6-465c-d6b9-3da9de4d11a0"
      },
      "execution_count": 11,
      "outputs": [
        {
          "output_type": "stream",
          "name": "stdout",
          "text": [
            "Sir,please enter the total weight of the shipment: 34\n",
            "32\n"
          ]
        }
      ]
    },
    {
      "cell_type": "markdown",
      "source": [
        "#Task 7\n",
        "A,B,C,D are variables.Now, solve the equation : A^C+B*A-D/3"
      ],
      "metadata": {
        "id": "UcSmpdKRJFtt"
      }
    },
    {
      "cell_type": "code",
      "source": [
        "A=  int(input(\"Sir,please enter an interger number :\"))\n",
        "B=  int(input(\"Sir,please enter an interger number:\"))\n",
        "C=  int(input(\"Sir,please enter an interger number:\"))\n",
        "D=  float(input(\"Sir,please enter a float number:\"))\n",
        "\n",
        "result= int(A**C+ (B*A-D/3))\n",
        "print(result)"
      ],
      "metadata": {
        "id": "UTs64g-hAdBC",
        "colab": {
          "base_uri": "https://localhost:8080/"
        },
        "outputId": "a92aa309-a43b-4fd1-8e98-3fcc2aae0659"
      },
      "execution_count": 12,
      "outputs": [
        {
          "output_type": "stream",
          "name": "stdout",
          "text": [
            "Sir,please enter an interger number :23\n",
            "Sir,please enter an interger number:34\n",
            "Sir,please enter an interger number:2\n",
            "Sir,please enter a float number:2\n",
            "1310\n"
          ]
        }
      ]
    },
    {
      "cell_type": "markdown",
      "source": [
        "#Task 8\n",
        "\n"
      ],
      "metadata": {
        "id": "jxJogIfvJNDl"
      }
    },
    {
      "cell_type": "markdown",
      "source": [],
      "metadata": {
        "id": "69HBDnro6RL6"
      }
    },
    {
      "cell_type": "code",
      "source": [
        "number_chocolates= int(input(\"The number of chocolates :\"))\n",
        "result1= number_chocolates//3\n",
        "result2= number_chocolates%3\n",
        "print (f\"Each friend will receive {result1} chocolates\")\n",
        "print (f\"The number of remaining chocolates is {result2}\")\n"
      ],
      "metadata": {
        "id": "VlG5xpu3C2ZH",
        "colab": {
          "base_uri": "https://localhost:8080/"
        },
        "outputId": "55f56ee8-02d3-4d52-b0b4-d613435ce2b7"
      },
      "execution_count": 13,
      "outputs": [
        {
          "output_type": "stream",
          "name": "stdout",
          "text": [
            "The number of chocolates :12\n",
            "Each friend will receive 4 chocolates\n",
            "The number of remaining chocolates is 0\n"
          ]
        }
      ]
    },
    {
      "cell_type": "markdown",
      "source": [
        "#Optional (9 - 11) [Ungraded]"
      ],
      "metadata": {
        "id": "5L5JYFiYFXMo"
      }
    },
    {
      "cell_type": "code",
      "source": [
        "num=\"4\"\n",
        "num2=\"4\"\n",
        "sum =num+num2\n",
        "print(sum)"
      ],
      "metadata": {
        "id": "xb4CqWb3FVh3",
        "colab": {
          "base_uri": "https://localhost:8080/"
        },
        "outputId": "d97fa58d-cf47-41e1-ec5f-b5cdb0a8cea9"
      },
      "execution_count": 14,
      "outputs": [
        {
          "output_type": "stream",
          "name": "stdout",
          "text": [
            "44\n"
          ]
        }
      ]
    },
    {
      "cell_type": "code",
      "source": [
        "name=\"Saiful\"\n",
        "print(name[0])"
      ],
      "metadata": {
        "id": "cUbnIBm_GWgR",
        "colab": {
          "base_uri": "https://localhost:8080/"
        },
        "outputId": "d4a7fb4e-5381-4453-980a-12f6915000cf"
      },
      "execution_count": 15,
      "outputs": [
        {
          "output_type": "stream",
          "name": "stdout",
          "text": [
            "S\n"
          ]
        }
      ]
    },
    {
      "cell_type": "markdown",
      "source": [
        "#task 9"
      ],
      "metadata": {
        "id": "SiDGZdDqJr-e"
      }
    },
    {
      "cell_type": "code",
      "source": [
        "M= input()\n",
        "N= input()\n",
        "sum=N+M\n",
        "print(sum)"
      ],
      "metadata": {
        "id": "krirU1EMJqLN",
        "colab": {
          "base_uri": "https://localhost:8080/"
        },
        "outputId": "d2bd7144-1980-45ea-8565-7d89e9a257bf"
      },
      "execution_count": 16,
      "outputs": [
        {
          "output_type": "stream",
          "name": "stdout",
          "text": [
            "12\n",
            "23\n",
            "2312\n"
          ]
        }
      ]
    },
    {
      "cell_type": "markdown",
      "source": [
        "#task 10"
      ],
      "metadata": {
        "id": "EfwGMiqkJeCV"
      }
    },
    {
      "cell_type": "code",
      "source": [
        "user = input(\"Sir,please enter your line: \")\n",
        "print(user[0])\n"
      ],
      "metadata": {
        "id": "_WmheUUUGolh",
        "colab": {
          "base_uri": "https://localhost:8080/"
        },
        "outputId": "29fe1bab-786a-47bb-f2e1-a132eb4e5255"
      },
      "execution_count": 17,
      "outputs": [
        {
          "output_type": "stream",
          "name": "stdout",
          "text": [
            "Sir,please enter your line: 23\n",
            "2\n"
          ]
        }
      ]
    },
    {
      "cell_type": "markdown",
      "source": [
        "#task 11"
      ],
      "metadata": {
        "id": "xYlK1Bm_Jlgd"
      }
    },
    {
      "cell_type": "code",
      "source": [
        "number= int(input(\"Sir,please ener an integer number: \"))\n",
        "if number%2==0 :\n",
        "    print(True)\n",
        "else:\n",
        "  print(False)\n"
      ],
      "metadata": {
        "id": "PxxjWRBSHeLj",
        "colab": {
          "base_uri": "https://localhost:8080/"
        },
        "outputId": "99f6495e-d7e0-4095-f513-dd92ea8d935d"
      },
      "execution_count": 18,
      "outputs": [
        {
          "output_type": "stream",
          "name": "stdout",
          "text": [
            "Sir,please ener an integer number: 23\n",
            "False\n"
          ]
        }
      ]
    }
  ]
}